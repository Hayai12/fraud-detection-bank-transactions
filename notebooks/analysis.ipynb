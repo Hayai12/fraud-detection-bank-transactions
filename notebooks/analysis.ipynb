{
 "cells": [
  {
   "cell_type": "markdown",
   "metadata": {},
   "source": [
    "# Bank Transaction Dataset for Fraud Detection\n",
    "\n",
    "## Introduction\n",
    "This dataset contains **2,512 bank transactions** with **16 features** related to transaction details, customer information, and device/location data. The goal is to analyze the dataset to detect fraudulent transactions and build a predictive model for fraud detection.\n",
    "\n",
    "### Dataset Overview:\n",
    "- **Rows**: 2,512 transactions\n",
    "- **Columns**: 16 features (described below)"
   ]
  },
  {
   "cell_type": "markdown",
   "metadata": {},
   "source": [
    "## Dataset Columns Description\n",
    "\n",
    "Below is a detailed description of each column in the dataset:\n",
    "\n",
    "1. **TransactionID**: Unique alphanumeric identifier for each transaction.\n",
    "2. **AccountID**: Unique identifier for each account, with multiple transactions per account.\n",
    "3. **TransactionAmount**: Monetary value of each transaction, ranging from small everyday expenses to larger purchases.\n",
    "4. **TransactionDate**: Timestamp of each transaction, capturing date and time.\n",
    "5. **TransactionType**: Categorical field indicating 'Credit' or 'Debit' transactions.\n",
    "6. **Location**: Geographic location of the transaction, represented by U.S. city names.\n",
    "7. **DeviceID**: Alphanumeric identifier for devices used to perform the transaction.\n",
    "8. **IP Address**: IPv4 address associated with the transaction, with occasional changes for some accounts.\n",
    "9. **MerchantID**: Unique identifier for merchants, showing preferred and outlier merchants for each account.\n",
    "10. **Channel**: Channel through which the transaction was performed (e.g., Online, ATM, Branch).\n",
    "11. **CustomerAge**: Age of the account holder, with logical groupings based on occupation.\n",
    "12. **CustomerOccupation**: Occupation of the account holder (e.g., Doctor, Engineer, Student, Retired), reflecting income patterns.\n",
    "13. **TransactionDuration**: Duration of the transaction in seconds, varying by transaction type.\n",
    "14. **LoginAttempts**: Number of login attempts before the transaction, with higher values indicating potential anomalies.\n",
    "15. **AccountBalance**: Balance in the account post-transaction, with logical correlations based on transaction type and amount.\n",
    "16. **PreviousTransactionDate**: Timestamp of the last transaction for the account, aiding in calculating transaction frequency."
   ]
  },
  {
   "cell_type": "markdown",
   "metadata": {},
   "source": [
    "## Load the dataset"
   ]
  },
  {
   "cell_type": "code",
   "execution_count": null,
   "metadata": {},
   "outputs": [],
   "source": [
    "# Import libraries\n",
    "import pandas as pd\n",
    "import numpy as np\n",
    "import matplotlib.pyplot as plt\n",
    "import seaborn as sns\n",
    "\n",
    "df = pd.read_csv('../data/bank_transactions.csv')\n",
    "\n",
    "df.head()"
   ]
  },
  {
   "cell_type": "markdown",
   "metadata": {},
   "source": [
    "## Basic Dataset Information\n",
    "\n",
    "Let’s explore the dataset's structure and summary statistics to understand its composition."
   ]
  },
  {
   "cell_type": "code",
   "execution_count": null,
   "metadata": {},
   "outputs": [],
   "source": [
    "# Display dataset information\n",
    "df.info()"
   ]
  },
  {
   "cell_type": "markdown",
   "metadata": {},
   "source": [
    "### Observations from `df.info()`:\n",
    "- The dataset has **2,512 rows** and **16 columns**.\n",
    "- There are **no missing values** in any column (all columns have 2,512 non-null entries).\n",
    "- Data types include:\n",
    "  - **Float64**: `TransactionAmount`, `AccountBalance`\n",
    "  - **Int64**: `CustomerAge`, `TransactionDuration`, `LoginAttempts`\n",
    "  - **Object**: All other columns (e.g., `TransactionID`, `AccountID`, `TransactionDate`, etc.)"
   ]
  },
  {
   "cell_type": "code",
   "execution_count": null,
   "metadata": {},
   "outputs": [],
   "source": [
    "# Display summary statistics for numerical columns\n",
    "df.describe()"
   ]
  },
  {
   "cell_type": "markdown",
   "metadata": {},
   "source": [
    "### Observations from `df.describe()`:\n",
    "\n",
    "1. **TransactionAmount**:\n",
    "   - Average: **\\$297.59**, with a wide range from **\\$0.26** to **\\$1,919.11**.\n",
    "   - 75% of transactions are below **\\$414.53**.\n",
    "\n",
    "2. **CustomerAge**:\n",
    "   - Average age: **44.67 years**, ranging from **18** to **80**.\n",
    "   - Median age: **45 years**.\n",
    "\n",
    "3. **TransactionDuration**:\n",
    "   - Average duration: **119.64 seconds**, ranging from **10** to **300 seconds**.\n",
    "   - 75% of transactions complete in under **161 seconds**.\n",
    "\n",
    "4. **LoginAttempts**:\n",
    "   - Average: **1.12 attempts**, with most transactions (75%) involving only **1 attempt**.\n",
    "   - Maximum attempts: **5**.\n",
    "\n",
    "5. **AccountBalance**:\n",
    "   - Average balance: **\\$5,114.30**, ranging from **\\$101.25** to **\\$14,977.99**.\n",
    "   - Median balance: **\\$4,735.51**.\n"
   ]
  },
  {
   "cell_type": "markdown",
   "metadata": {},
   "source": [
    "## Data Cleaning"
   ]
  },
  {
   "cell_type": "code",
   "execution_count": null,
   "metadata": {},
   "outputs": [],
   "source": [
    "df.isnull().sum()\n"
   ]
  },
  {
   "cell_type": "code",
   "execution_count": null,
   "metadata": {},
   "outputs": [],
   "source": [
    "df.duplicated().sum()\n"
   ]
  },
  {
   "cell_type": "markdown",
   "metadata": {},
   "source": [
    "## Data Convertion"
   ]
  },
  {
   "cell_type": "code",
   "execution_count": null,
   "metadata": {},
   "outputs": [],
   "source": [
    "df['TransactionDate'] = pd.to_datetime(df['TransactionDate'])\n",
    "df['PreviousTransactionDate'] = pd.to_datetime(df['PreviousTransactionDate'])\n",
    "\n",
    "df[['TransactionDate', 'PreviousTransactionDate']].info()\n"
   ]
  },
  {
   "cell_type": "markdown",
   "metadata": {},
   "source": [
    "## Outliers Check"
   ]
  },
  {
   "cell_type": "code",
   "execution_count": null,
   "metadata": {},
   "outputs": [],
   "source": [
    "import seaborn as sns\n",
    "import matplotlib.pyplot as plt\n",
    "\n",
    "# Establecer el estilo global para los gráficos con fondo gris y bordes blancos suaves\n",
    "sns.set_theme(style=\"whitegrid\", palette=\"muted\", rc={\n",
    "    \"axes.facecolor\": \"#284B63\",  # Fondo gris oscuro para los contenedores\n",
    "    \"figure.facecolor\": \"#284B63\",  # Fondo gris oscuro para toda la figura\n",
    "    \"grid.color\": \"#D9D9D9\",  # Gris más claro para la cuadrícula\n",
    "    \"axes.grid\": True,  # Mostrar cuadrícula\n",
    "    \"axes.edgecolor\": \"#D9D9D9\",  # Bordes de los contenedores en gris claro\n",
    "    \"xtick.color\": \"#D9D9D9\",  # Color de las etiquetas del eje X en gris claro\n",
    "    \"ytick.color\": \"#D9D9D9\",  # Color de las etiquetas del eje Y en gris claro\n",
    "    \"axes.labelcolor\": \"#D9D9D9\",  # Color de las etiquetas de los ejes en gris claro\n",
    "    \"axes.titlesize\": 14,  # Tamaño de los títulos\n",
    "    \"axes.titleweight\": 'bold',  # Hacer los títulos en negrita\n",
    "})\n",
    "\n",
    "custom_palette = [\"#D9D9D9\", \"#A0A0A0\"]\n",
    "\n",
    "# Crear una función personalizada para los boxplots\n",
    "def custom_boxplot(*args, **kwargs):\n",
    "    kwargs.setdefault(\"color\", \"#D9D9D9\")  # Relleno de la caja en gris claro\n",
    "    kwargs.setdefault(\"flierprops\", dict(markerfacecolor='#D9D9D9', marker='o', markersize=7))\n",
    "    kwargs.setdefault(\"boxprops\", dict(edgecolor='#D9D9D9', linewidth=1))\n",
    "    kwargs.setdefault(\"medianprops\", dict(color='#D9D9D9', linewidth=1))\n",
    "    kwargs.setdefault(\"capprops\", dict(color='#D9D9D9', linewidth=1))\n",
    "    kwargs.setdefault(\"whiskerprops\", dict(color='#D9D9D9', linewidth=1))\n",
    "    \n",
    "    return sns.boxplot(*args, **kwargs)\n",
    "\n",
    "def custom_countplot(*args, **kwargs):\n",
    "    # Personalizar colores de los gráficos countplot\n",
    "    kwargs.setdefault(\"palette\", \"dark:#D9D9D9\")  # Color de las barras (gris claro)\n",
    "    kwargs.setdefault(\"edgecolor\", \"#D9D9D9\")  # Bordes de las barras (gris claro)\n",
    "    \n",
    "     # Crear el gráfico countplot\n",
    "    ax = sns.countplot(*args, **kwargs)\n",
    "\n",
    "    # Personalizar la leyenda si existe\n",
    "    legend = ax.legend()\n",
    "    if legend:\n",
    "        plt.setp(legend.get_texts(), color=\"#D9D9D9\")  # Cambiar el color del texto de la leyenda\n",
    "        legend.get_frame().set_edgecolor(\"#D9D9D9\")  # Color del borde de la leyenda\n",
    "\n",
    "    return ax\n",
    "\n",
    "def custom_scatterplot(x, y, data, **kwargs):\n",
    "    kwargs.setdefault(\"color\", \"#D9D9D9\")  # Color de los puntos\n",
    "    kwargs.setdefault(\"edgecolor\", \"#D9D9D9\")  # Borde de los puntos\n",
    "    kwargs.setdefault(\"s\", 50)  # Tamaño de los puntos\n",
    "    kwargs.setdefault(\"alpha\", 0.7)  # Transparencia para evitar saturación visual\n",
    "\n",
    "    return sns.scatterplot(x=x, y=y, data=data, **kwargs)"
   ]
  },
  {
   "cell_type": "code",
   "execution_count": null,
   "metadata": {},
   "outputs": [],
   "source": [
    "numerical_columns = ['TransactionAmount', 'CustomerAge', 'TransactionDuration', 'LoginAttempts', 'AccountBalance']\n",
    "plt.figure(figsize=(15, 8))\n",
    "for i, col in enumerate(numerical_columns, 1):\n",
    "    plt.subplot(2, 3, i)\n",
    "    custom_boxplot(y=df[col])  # Usamos la función personalizada\n",
    "    plt.title(col, color='#D9D9D9')  # Títulos en gris claro\n",
    "plt.tight_layout()\n",
    "plt.show()"
   ]
  },
  {
   "cell_type": "markdown",
   "metadata": {},
   "source": [
    "### Observations:\n",
    "1. **TransactionAmount**:\n",
    "   - Some transactions have very high amounts (up to \\$1,919.11), which could be outliers or legitimate large transactions.\n",
    "2. **CustomerAge**:\n",
    "   - The age range (18 to 80) is reasonable, with no outliers.\n",
    "3. **TransactionDuration**:\n",
    "   - Some transactions take up to 300 seconds (5 minutes), which might be outliers or indicate unusual activity.\n",
    "4. **LoginAttempts**:\n",
    "   - Most transactions involve 1 login attempt, but some have up to 5 attempts, which could indicate anomalies.\n",
    "5. **AccountBalance**:\n",
    "   - Some accounts have very high balances (up to \\$14,977.99), which could be outliers or legitimate for high-net-worth individuals.\n",
    "\n",
    "### Action:\n",
    "- We’ll keep the outliers for now, as they might be important for fraud detection (e.g., unusually high transaction amounts or login attempts)."
   ]
  },
  {
   "cell_type": "markdown",
   "metadata": {},
   "source": [
    "## Unique Values Categorical Columns"
   ]
  },
  {
   "cell_type": "code",
   "execution_count": null,
   "metadata": {},
   "outputs": [],
   "source": [
    "# Check unique values in categorical columns\n",
    "categorical_columns = ['TransactionType', 'Location', 'DeviceID', 'IP Address', 'MerchantID', 'Channel', 'CustomerOccupation']\n",
    "\n",
    "for col in categorical_columns:\n",
    "    print(f\"Unique values in {col}: {df[col].unique()}\")\n",
    "    print(\"\\n\")"
   ]
  },
  {
   "cell_type": "markdown",
   "metadata": {},
   "source": [
    "### Observations:\n",
    "1. **TransactionType**:\n",
    "   - Only two values: `Debit` and `Credit`. No inconsistencies.\n",
    "2. **Location**:\n",
    "   - All values are valid U.S. city names. No inconsistencies.\n",
    "3. **DeviceID**:\n",
    "   - All values are alphanumeric and unique. No inconsistencies.\n",
    "4. **IP Address**:\n",
    "   - All values are valid IPv4 addresses. No inconsistencies.\n",
    "5. **MerchantID**:\n",
    "   - All values are alphanumeric and unique. No inconsistencies.\n",
    "6. **Channel**:\n",
    "   - Only three values: `Branch`, `ATM`, and `Online`. No inconsistencies.\n",
    "7. **CustomerOccupation**:\n",
    "   - Only four values: `Student`, `Doctor`, `Engineer`, and `Retired`. No inconsistencies.\n"
   ]
  },
  {
   "cell_type": "markdown",
   "metadata": {},
   "source": [
    "## Summary of Data Cleaning\n",
    "\n",
    "1. **No Missing Values or Duplicates**:\n",
    "   - The dataset is clean, with no missing values or duplicate rows.\n",
    "\n",
    "2. **Data Type Conversion**:\n",
    "   - `TransactionDate` and `PreviousTransactionDate` have been converted to `datetime`.\n",
    "\n",
    "3. **Outliers**:\n",
    "   - Outliers were identified in `TransactionAmount`, `TransactionDuration`, and `LoginAttempts`, but they were retained as they might be relevant for fraud detection.\n",
    "\n",
    "4. **Categorical Data**:\n",
    "   - No inconsistencies were found in categorical columns.\n",
    "\n",
    "The dataset is now ready for **Exploratory Data Analysis (EDA)**."
   ]
  },
  {
   "cell_type": "markdown",
   "metadata": {},
   "source": [
    "## Exploratory Data Analysis (EDA)\n",
    "\n",
    "In this step, we’ll explore the dataset visually and statistically to uncover patterns, trends, and relationships. EDA helps us understand the data better and identify potential features for fraud detection."
   ]
  },
  {
   "cell_type": "markdown",
   "metadata": {},
   "source": [
    "### 1. Univariate Analysis\n"
   ]
  },
  {
   "cell_type": "markdown",
   "metadata": {},
   "source": [
    "#### Numerical Columns\n",
    "\n",
    "We are not using Account ID and Transaction ID because they are not relevant in this analysis\n"
   ]
  },
  {
   "cell_type": "markdown",
   "metadata": {},
   "source": [
    "### Transaction Amount"
   ]
  },
  {
   "cell_type": "code",
   "execution_count": null,
   "metadata": {},
   "outputs": [],
   "source": [
    "# Histogram for TransactionAmount\n",
    "sns.histplot(df['TransactionAmount'], bins=30, kde=True, color=\"#D9D9D9\")\n",
    "plt.title('Distribution of Transaction Amount',color=\"#D9D9D9\")\n",
    "plt.show()\n",
    "\n",
    "# Boxplot for TransactionAmount\n",
    "custom_boxplot(x=df['TransactionAmount'])\n",
    "plt.title('Boxplot of Transaction Amount',color=\"#D9D9D9\")\n",
    "plt.show()"
   ]
  },
  {
   "cell_type": "markdown",
   "metadata": {},
   "source": [
    "### Costumer Age"
   ]
  },
  {
   "cell_type": "code",
   "execution_count": null,
   "metadata": {},
   "outputs": [],
   "source": [
    "\n",
    "# Histogram for CustomerAge\n",
    "sns.histplot(df['CustomerAge'], bins=30, kde=True, color=\"#D9D9D9\")\n",
    "plt.title('Distribution of Costumer Age',color=\"#D9D9D9\")\n",
    "plt.show()\n"
   ]
  },
  {
   "cell_type": "markdown",
   "metadata": {},
   "source": [
    "### Account Balance"
   ]
  },
  {
   "cell_type": "code",
   "execution_count": null,
   "metadata": {},
   "outputs": [],
   "source": [
    "\n",
    "# Histogram for AccountBalance\n",
    "sns.histplot(df['AccountBalance'], bins=30, kde=True, color=\"#D9D9D9\")\n",
    "plt.title('Distribution of Account Balance',color=\"#D9D9D9\")\n",
    "plt.show()\n"
   ]
  },
  {
   "cell_type": "markdown",
   "metadata": {},
   "source": [
    "### Transaction Duration"
   ]
  },
  {
   "cell_type": "code",
   "execution_count": null,
   "metadata": {},
   "outputs": [],
   "source": [
    "\n",
    "# Histogram for TransactionDuration\n",
    "sns.histplot(df['TransactionDuration'], bins=30, kde=True, color=\"#D9D9D9\")\n",
    "plt.title('Distribution of Transaction Duration',color=\"#D9D9D9\")\n",
    "plt.show()\n",
    "\n"
   ]
  },
  {
   "cell_type": "markdown",
   "metadata": {},
   "source": [
    "### Login Attempts"
   ]
  },
  {
   "cell_type": "code",
   "execution_count": null,
   "metadata": {},
   "outputs": [],
   "source": [
    "\n",
    "# Histogram for LoginAttempts\n",
    "sns.histplot(df['LoginAttempts'], bins=30, kde=True, color=\"#D9D9D9\")\n",
    "plt.title('Distribution of Login Attempts',color=\"#D9D9D9\")\n",
    "plt.show()\n"
   ]
  },
  {
   "cell_type": "markdown",
   "metadata": {},
   "source": [
    "### Categorical Columns"
   ]
  },
  {
   "cell_type": "markdown",
   "metadata": {},
   "source": [
    "#### TransactionType"
   ]
  },
  {
   "cell_type": "code",
   "execution_count": null,
   "metadata": {},
   "outputs": [],
   "source": [
    "# Transaction Type\n",
    "custom_countplot(x='TransactionType', hue='TransactionType' , data=df)\n",
    "plt.title('Distribution of Transaction Types', color=\"#D9D9D9\")\n",
    "plt.show()\n"
   ]
  },
  {
   "cell_type": "markdown",
   "metadata": {},
   "source": [
    "### Location"
   ]
  },
  {
   "cell_type": "code",
   "execution_count": null,
   "metadata": {},
   "outputs": [],
   "source": [
    "# Location\n",
    "\n",
    "top_10_locations = df['Location'].value_counts().index[:20]\n",
    "\n",
    "custom_countplot(y='Location', data=df, hue='Location', order=top_10_locations)\n",
    "plt.title('Distribution of top 20 Transactions by Location', color=\"#D9D9D9\")\n",
    "plt.show()"
   ]
  },
  {
   "cell_type": "markdown",
   "metadata": {},
   "source": [
    "### Channel"
   ]
  },
  {
   "cell_type": "code",
   "execution_count": null,
   "metadata": {},
   "outputs": [],
   "source": [
    "custom_countplot(x='Channel', hue='Channel', data=df)\n",
    "plt.title('Distribution of Transaction Channels', color=\"#D9D9D9\")\n",
    "plt.show()"
   ]
  },
  {
   "cell_type": "markdown",
   "metadata": {},
   "source": [
    "### CustomerOccupation"
   ]
  },
  {
   "cell_type": "code",
   "execution_count": null,
   "metadata": {},
   "outputs": [],
   "source": [
    "custom_countplot(x='CustomerOccupation' ,hue='CustomerOccupation' , data=df)\n",
    "plt.title('Distribution of Transaction Customer Occupation', color=\"#D9D9D9\")\n",
    "plt.show()"
   ]
  },
  {
   "cell_type": "markdown",
   "metadata": {},
   "source": [
    "## Bivariate Analysis"
   ]
  },
  {
   "cell_type": "markdown",
   "metadata": {},
   "source": [
    "### TransactionAmount vs AccountBalance\n",
    "\n"
   ]
  },
  {
   "cell_type": "code",
   "execution_count": null,
   "metadata": {},
   "outputs": [],
   "source": [
    "custom_scatterplot(x='TransactionAmount', y='AccountBalance', data=df, )\n",
    "plt.title('Transaction Amount vs. Account Balance', color=\"#D9D9D9\")\n",
    "plt.show()"
   ]
  },
  {
   "cell_type": "markdown",
   "metadata": {},
   "source": [
    "### TransactionAmount vs CustomerAge\n",
    "\n"
   ]
  },
  {
   "cell_type": "code",
   "execution_count": null,
   "metadata": {},
   "outputs": [],
   "source": [
    "custom_scatterplot(x='TransactionAmount', y='CustomerAge', data=df)\n",
    "plt.title('Transaction Amount vs. Customer Age', color=\"#D9D9D9\")\n",
    "plt.show()"
   ]
  },
  {
   "cell_type": "markdown",
   "metadata": {},
   "source": [
    "### TransactionAmount vs TransactionDuration\n",
    "\n"
   ]
  },
  {
   "cell_type": "code",
   "execution_count": null,
   "metadata": {},
   "outputs": [],
   "source": [
    "custom_scatterplot(x='TransactionAmount', y='TransactionDuration', data=df)\n",
    "plt.title('Transaction Amount vs Transaction Duration', color=\"#D9D9D9\")\n",
    "plt.show()"
   ]
  },
  {
   "cell_type": "markdown",
   "metadata": {},
   "source": [
    "### AccountBalance vs CustomerAge\t"
   ]
  },
  {
   "cell_type": "code",
   "execution_count": null,
   "metadata": {},
   "outputs": [],
   "source": [
    "custom_scatterplot(x='AccountBalance', y='CustomerAge', data=df)\n",
    "plt.title('Account Balance vs Customer Age', color=\"#D9D9D9\")\n",
    "plt.show()"
   ]
  },
  {
   "cell_type": "markdown",
   "metadata": {},
   "source": [
    "### AccountBalance vs TransactionDuration\t"
   ]
  },
  {
   "cell_type": "code",
   "execution_count": null,
   "metadata": {},
   "outputs": [],
   "source": [
    "custom_scatterplot(x='AccountBalance', y='TransactionDuration', data=df)\n",
    "plt.title('Account Balance vs Transaction Duration', color=\"#D9D9D9\")\n",
    "plt.show()"
   ]
  },
  {
   "cell_type": "markdown",
   "metadata": {},
   "source": [
    "## Numerical vs Categorical\n"
   ]
  },
  {
   "cell_type": "markdown",
   "metadata": {},
   "source": [
    "### TransactionAmount vs TransactionType\n",
    "\n"
   ]
  },
  {
   "cell_type": "code",
   "execution_count": null,
   "metadata": {},
   "outputs": [],
   "source": [
    "custom_boxplot(x='TransactionType', y='TransactionAmount', data=df)\n",
    "plt.title('Transaction Amount by Transaction Type', color=\"#D9D9D9\")\n",
    "plt.show()"
   ]
  },
  {
   "cell_type": "markdown",
   "metadata": {},
   "source": [
    "### TransactionAmount vs Location\n",
    "\n"
   ]
  },
  {
   "cell_type": "code",
   "execution_count": null,
   "metadata": {},
   "outputs": [],
   "source": [
    "plt.figure(figsize=(12, 12))  # Aumentar tamaño\n",
    "custom_boxplot(y='Location', x='TransactionAmount', data=df)\n",
    "plt.title('Transaction Amount by Location', color=\"#D9D9D9\")\n",
    "plt.show()\n"
   ]
  },
  {
   "cell_type": "markdown",
   "metadata": {},
   "source": [
    "### TransactionAmount vs Channel\n",
    "\n"
   ]
  },
  {
   "cell_type": "code",
   "execution_count": null,
   "metadata": {},
   "outputs": [],
   "source": [
    "custom_boxplot(x='Channel', y='TransactionAmount', data=df)\n",
    "plt.title('Transaction Amount by Channel', color=\"#D9D9D9\")\n",
    "plt.show()"
   ]
  },
  {
   "cell_type": "markdown",
   "metadata": {},
   "source": [
    "### CustomerAge vs TransactionType\t"
   ]
  },
  {
   "cell_type": "code",
   "execution_count": null,
   "metadata": {},
   "outputs": [],
   "source": [
    "custom_boxplot(x='CustomerAge', y='TransactionType', data=df)\n",
    "plt.title('Customer Age by Transaction Type', color=\"#D9D9D9\")\n",
    "plt.show()"
   ]
  },
  {
   "cell_type": "markdown",
   "metadata": {},
   "source": [
    "### AccountBalance vs TransactionType\t"
   ]
  },
  {
   "cell_type": "code",
   "execution_count": null,
   "metadata": {},
   "outputs": [],
   "source": [
    "custom_boxplot(x='AccountBalance', y='TransactionType', data=df)\n",
    "plt.title('Customer Age by Transaction Type', color=\"#D9D9D9\")\n",
    "plt.show()"
   ]
  },
  {
   "cell_type": "markdown",
   "metadata": {},
   "source": [
    "## Categorical vs Categorical\n"
   ]
  },
  {
   "cell_type": "markdown",
   "metadata": {},
   "source": [
    "### TransactionType vs Location"
   ]
  },
  {
   "cell_type": "code",
   "execution_count": null,
   "metadata": {},
   "outputs": [],
   "source": [
    "plt.figure(figsize=(14, 6))  # Aumentar el tamaño del gráfico\n",
    "top_10_locations = df['Location'].value_counts().index[:10]\n",
    "df_filtered = df[df['Location'].isin(top_10_locations)]\n",
    "custom_countplot(x='Location', hue='TransactionType', data=df_filtered)\n",
    "plt.xticks(rotation=45, ha=\"right\")  # Rotar etiquetas\n",
    "plt.title('Transaction Type by Location (Top 10)', color=\"#D9D9D9\")\n",
    "plt.show()\n"
   ]
  },
  {
   "cell_type": "markdown",
   "metadata": {},
   "source": [
    "### TransactionType vs Channel"
   ]
  },
  {
   "cell_type": "code",
   "execution_count": null,
   "metadata": {},
   "outputs": [],
   "source": [
    "custom_countplot(x='Channel', hue='TransactionType', data=df)\n",
    "plt.title('Transaction Type by Channel', color=\"#D9D9D9\")\n",
    "plt.show()"
   ]
  },
  {
   "cell_type": "markdown",
   "metadata": {},
   "source": [
    "### Location vs Channel\t"
   ]
  },
  {
   "cell_type": "code",
   "execution_count": null,
   "metadata": {},
   "outputs": [],
   "source": [
    "# Seleccionar las 10 ubicaciones más frecuentes\n",
    "top_10_locations = df['Location'].value_counts().index[:10]\n",
    "df_filtered = df[df['Location'].isin(top_10_locations)]\n",
    "\n",
    "# Graficar solo con esas ubicaciones\n",
    "plt.figure(figsize=(14, 6))  # Hacer el gráfico más ancho\n",
    "custom_countplot(x='Location', hue='Channel', data=df_filtered)\n",
    "plt.xticks(rotation=45, ha=\"right\")  # Rotar etiquetas para que no se superpongan\n",
    "plt.title('Transaction Type by Channel (Top 10 Locations)', color=\"#D9D9D9\")\n",
    "plt.show()\n"
   ]
  },
  {
   "cell_type": "markdown",
   "metadata": {},
   "source": [
    "### TransactionType vs CustomerOccupation"
   ]
  },
  {
   "cell_type": "code",
   "execution_count": null,
   "metadata": {},
   "outputs": [],
   "source": [
    "custom_countplot(x='TransactionType', hue='CustomerOccupation', data=df)\n",
    "plt.title('Transaction Type by Customer Occupation', color=\"#D9D9D9\")\n",
    "plt.show()"
   ]
  },
  {
   "cell_type": "markdown",
   "metadata": {},
   "source": [
    "### Location vs CustomerOccupation\t"
   ]
  },
  {
   "cell_type": "code",
   "execution_count": null,
   "metadata": {},
   "outputs": [],
   "source": [
    "# Seleccionar las 10 ubicaciones más frecuentes\n",
    "top_10_locations = df['Location'].value_counts().index[:10]\n",
    "df_filtered = df[df['Location'].isin(top_10_locations)]\n",
    "\n",
    "# Graficar solo con esas ubicaciones\n",
    "plt.figure(figsize=(14, 6))  # Hacer el gráfico más ancho\n",
    "custom_countplot(x='Location', hue='CustomerOccupation', data=df_filtered)\n",
    "plt.xticks(rotation=45, ha=\"right\")  # Rotar etiquetas para que no se superpongan\n",
    "plt.title('Transaction Type by Customer Occupation (Top 10 Locations)', color=\"#D9D9D9\")\n",
    "plt.show()\n"
   ]
  },
  {
   "cell_type": "code",
   "execution_count": null,
   "metadata": {},
   "outputs": [],
   "source": [
    "# Select numerical columns\n",
    "numerical_columns = ['TransactionAmount', 'AccountBalance', 'CustomerAge', 'TransactionDuration', 'LoginAttempts']\n",
    "\n",
    "# Calculate correlation matrix\n",
    "correlation_matrix = df[numerical_columns].corr()\n",
    "\n",
    "# Plot heatmap\n",
    "plt.figure(figsize=(12, 8))  # Hacer el gráfico más grande para mejorar la visualización\n",
    "\n",
    "# Usar paleta de colores basada en tonos grises\n",
    "sns.heatmap(correlation_matrix, annot=True, cmap=\"Greys\", fmt=\".2f\", annot_kws={\"size\": 12, \"ha\": \"center\", \"va\": \"center\"}, cbar_kws={'label': 'Correlation'})\n",
    "\n",
    "# Personalización adicional\n",
    "plt.title('Correlation Heatmap of Numerical Variables', color=\"#D9D9D9\")\n",
    "plt.xticks(rotation=45, ha=\"right\", color=\"#D9D9D9\")  # Rotar las etiquetas del eje X y color\n",
    "plt.yticks(rotation=0, color=\"#D9D9D9\")  # Cambiar color de las etiquetas del eje Y\n",
    "plt.show()\n"
   ]
  },
  {
   "cell_type": "code",
   "execution_count": null,
   "metadata": {},
   "outputs": [],
   "source": [
    "# Create a cross-tabulation of TransactionType and Channel\n",
    "cross_tab = pd.crosstab(df['TransactionType'], df['Channel'])\n",
    "\n",
    "# Plot heatmap\n",
    "plt.figure(figsize=(12, 7))  # Hacer el gráfico más grande para mejorar la visualización\n",
    "\n",
    "# Usar paleta de colores basada en tonos grises\n",
    "sns.heatmap(cross_tab, annot=True, cmap=\"Greys\", fmt=\"d\", annot_kws={\"size\": 12, \"ha\": \"center\", \"va\": \"center\"}, cbar_kws={'label': 'Frequency'})\n",
    "\n",
    "# Personalización adicional\n",
    "plt.title('Frequency Heatmap: Transaction Type vs Channel', color=\"#D9D9D9\")\n",
    "plt.xticks(rotation=45, ha=\"right\", color=\"#D9D9D9\")  # Rotar las etiquetas del eje X y color\n",
    "plt.yticks(rotation=0, color=\"#D9D9D9\")  # Cambiar color de las etiquetas del eje Y\n",
    "plt.show()\n"
   ]
  },
  {
   "cell_type": "code",
   "execution_count": null,
   "metadata": {},
   "outputs": [],
   "source": [
    "\n",
    "# Create a cross-tabulation of Location and TransactionType\n",
    "cross_tab = pd.crosstab(df['Location'], df['TransactionType'])\n",
    "\n",
    "# Plot heatmap\n",
    "plt.figure(figsize=(20, 12))  # Hacer el gráfico más amplio para mejorar la visualización\n",
    "\n",
    "# Usar paleta de colores basada en tonos grises\n",
    "sns.heatmap(cross_tab, annot=True, cmap=\"Greys\", fmt=\"d\", annot_kws={\"size\": 10, \"ha\": \"center\", \"va\": \"center\"}, cbar_kws={'label': 'Frequency'})\n",
    "\n",
    "# Personalización adicional\n",
    "plt.title('Frequency Heatmap: Transaction Type vs Location', color=\"#D9D9D9\")\n",
    "\n",
    "# Rotar las etiquetas del eje X y eje Y\n",
    "plt.xticks(rotation=0, ha=\"right\", color=\"#D9D9D9\")  # Rotar etiquetas eje X\n",
    "plt.yticks(rotation=0, color=\"#D9D9D9\")  # Las etiquetas eje Y estarán a la izquierda y horizontales\n",
    "\n",
    "\n",
    "# Mostrar el gráfico\n",
    "plt.show()\n"
   ]
  },
  {
   "cell_type": "code",
   "execution_count": null,
   "metadata": {},
   "outputs": [],
   "source": [
    "# Create a cross-tabulation of Location and Channel\n",
    "cross_tab = pd.crosstab(df['Location'], df['Channel'])\n",
    "\n",
    "# Plot heatmap\n",
    "plt.figure(figsize=(20, 10))  # Hacer el gráfico más grande para mejorar la visualización\n",
    "\n",
    "# Usar paleta de colores basada en tonos grises\n",
    "sns.heatmap(cross_tab, annot=True, cmap=\"Greys\", fmt=\"d\", annot_kws={\"size\": 12, \"ha\": \"center\", \"va\": \"center\"}, cbar_kws={'label': 'Frequency'})\n",
    "\n",
    "# Personalización adicional\n",
    "plt.title('Frequency Heatmap: Location vs Channel', color=\"#D9D9D9\")\n",
    "plt.xticks(rotation=0, color=\"#D9D9D9\")  # Rotar las etiquetas del eje X y color\n",
    "plt.yticks(rotation=0, color=\"#D9D9D9\")  # Cambiar color de las etiquetas del eje Y\n",
    "\n",
    "plt.show()\n"
   ]
  },
  {
   "cell_type": "markdown",
   "metadata": {},
   "source": [
    "## Feature Engineering"
   ]
  },
  {
   "cell_type": "markdown",
   "metadata": {},
   "source": [
    "### Time-Based Features:"
   ]
  },
  {
   "cell_type": "code",
   "execution_count": null,
   "metadata": {},
   "outputs": [],
   "source": [
    "df['TimeSinceLastTransaction'] = (df['TransactionDate'] - df['PreviousTransactionDate']).dt.total_seconds()\n",
    "df['TransactionHour'] = df['TransactionDate'].dt.hour"
   ]
  },
  {
   "cell_type": "markdown",
   "metadata": {},
   "source": [
    "### Transaction Frequency:"
   ]
  },
  {
   "cell_type": "code",
   "execution_count": null,
   "metadata": {},
   "outputs": [],
   "source": [
    "df['TransactionFrequency'] = df.groupby('AccountID')['TransactionID'].transform('count')"
   ]
  },
  {
   "cell_type": "markdown",
   "metadata": {},
   "source": [
    "### Device and IP Usage:"
   ]
  },
  {
   "cell_type": "code",
   "execution_count": null,
   "metadata": {},
   "outputs": [],
   "source": [
    "df['DeviceUsage'] = df.groupby('DeviceID')['TransactionID'].transform('count')\n",
    "df['IPUsage'] = df.groupby('IP Address')['TransactionID'].transform('count')"
   ]
  },
  {
   "cell_type": "markdown",
   "metadata": {},
   "source": [
    "### Merchant Preferences:"
   ]
  },
  {
   "cell_type": "code",
   "execution_count": null,
   "metadata": {},
   "outputs": [],
   "source": [
    "df['MerchantPreference'] = df.groupby(['AccountID', 'MerchantID'])['TransactionID'].transform('count')"
   ]
  },
  {
   "cell_type": "code",
   "execution_count": null,
   "metadata": {},
   "outputs": [],
   "source": [
    "df.head()"
   ]
  },
  {
   "cell_type": "markdown",
   "metadata": {},
   "source": [
    "## Data Preprocessing"
   ]
  },
  {
   "cell_type": "markdown",
   "metadata": {},
   "source": [
    "###  Feature Scaling"
   ]
  },
  {
   "cell_type": "code",
   "execution_count": null,
   "metadata": {},
   "outputs": [],
   "source": [
    "from sklearn.preprocessing import StandardScaler\n",
    "\n",
    "# Select numerical features to scale\n",
    "numerical_features = [\n",
    "    'TransactionAmount', 'TransactionDuration', 'LoginAttempts', \n",
    "    'AccountBalance', 'TimeSinceLastTransaction', 'TransactionFrequency', \n",
    "    'DeviceUsage', 'IPUsage', 'MerchantPreference'\n",
    "]\n",
    "\n",
    "# Apply StandardScaler\n",
    "scaler = StandardScaler()\n",
    "df[numerical_features] = scaler.fit_transform(df[numerical_features])"
   ]
  },
  {
   "cell_type": "markdown",
   "metadata": {},
   "source": [
    "### Encode Categorical Variables"
   ]
  },
  {
   "cell_type": "code",
   "execution_count": null,
   "metadata": {},
   "outputs": [],
   "source": [
    "# Label Encoding for 'TransactionType' (binary: Debit/Credit)\n",
    "df['TransactionTypeEncoded'] = df['TransactionType'].map({'Debit': 0, 'Credit': 1})\n",
    "\n",
    "# One-Hot Encoding for 'Channel' and 'Location'\n",
    "df = pd.get_dummies(df, columns=['Channel', 'Location'], drop_first=True)\n",
    "\n",
    "# Drop the original categorical columns (optional)\n",
    "#df.drop(columns=['TransactionType'], inplace=True)\n",
    "\n",
    "df.head()"
   ]
  },
  {
   "cell_type": "code",
   "execution_count": null,
   "metadata": {},
   "outputs": [],
   "source": [
    "# Drop non-numeric columns\n",
    "df_numeric = df.select_dtypes(include=['number'])\n",
    "\n",
    "# Check the resulting dataframe\n",
    "print(df_numeric.head())"
   ]
  },
  {
   "cell_type": "code",
   "execution_count": null,
   "metadata": {},
   "outputs": [],
   "source": [
    "from sklearn.ensemble import IsolationForest\n",
    "\n",
    "# Initialize the Isolation Forest model\n",
    "iso_forest = IsolationForest(contamination=0.05, random_state=42)  # Adjust contamination based on expected anomaly rate\n",
    "\n",
    "# Fit the model and predict anomalies\n",
    "df['AnomalyScore'] = iso_forest.fit_predict(df_numeric)\n",
    "\n",
    "# AnomalyScore: -1 for anomalies, 1 for normal transactions\n",
    "df['IsAnomaly'] = df['AnomalyScore'].apply(lambda x: 1 if x == -1 else 0)\n",
    "\n",
    "# Check the number of anomalies\n",
    "print(df['IsAnomaly'].value_counts())"
   ]
  },
  {
   "cell_type": "code",
   "execution_count": null,
   "metadata": {},
   "outputs": [],
   "source": [
    "import matplotlib.pyplot as plt\n",
    "\n",
    "# Visualize anomalies (e.g., TransactionAmount vs. AccountBalance)\n",
    "plt.figure(figsize=(10, 6))\n",
    "plt.scatter(df['TransactionAmount'], df['AccountBalance'], c=df['IsAnomaly'], cmap='coolwarm', alpha=0.6)\n",
    "plt.title('Anomalies Detected by Isolation Forest')\n",
    "plt.xlabel('Transaction Amount')\n",
    "plt.ylabel('Account Balance')\n",
    "plt.colorbar(label='Anomaly (1) / Normal (0)')\n",
    "plt.show()"
   ]
  }
 ],
 "metadata": {
  "kernelspec": {
   "display_name": "venv",
   "language": "python",
   "name": "python3"
  },
  "language_info": {
   "codemirror_mode": {
    "name": "ipython",
    "version": 3
   },
   "file_extension": ".py",
   "mimetype": "text/x-python",
   "name": "python",
   "nbconvert_exporter": "python",
   "pygments_lexer": "ipython3",
   "version": "3.12.7"
  }
 },
 "nbformat": 4,
 "nbformat_minor": 2
}
